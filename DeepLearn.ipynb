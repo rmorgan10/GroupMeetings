{
 "cells": [
  {
   "cell_type": "markdown",
   "metadata": {},
   "source": [
    "Let's give some deep learning a shot"
   ]
  },
  {
   "cell_type": "code",
   "execution_count": 11,
   "metadata": {},
   "outputs": [],
   "source": [
    "import matplotlib.pyplot as plt\n",
    "import numpy as np\n",
    "import pandas as pd\n",
    "\n",
    "import torch\n",
    "import torch.nn as nn\n",
    "import torch.nn.functional as F\n",
    "import torch.utils.data as Data\n",
    "from torch.utils.data import Dataset, DataLoader\n",
    "from torch.utils.data import TensorDataset\n",
    "import torchvision"
   ]
  },
  {
   "cell_type": "code",
   "execution_count": 12,
   "metadata": {},
   "outputs": [],
   "source": [
    "### Load data\n",
    "\n",
    "train_data_1 = np.load('DES_GalGal_Big/CONFIGURATION_1_images.npy')\n",
    "train_data_2 = np.load('DES_GalGal_Big/CONFIGURATION_2_images.npy')\n",
    "\n",
    "train_data = np.vstack((train_data_1, train_data_2)) #/ np.max((np.max(train_data_1), np.max(train_data_2)))\n",
    "train_labels = np.array([1] * len(train_data_1) + [0] * len(train_data_2))\n",
    "\n",
    "test_data_1 = np.load('DES_GalGal_Big/CONFIGURATION_3_images.npy')\n",
    "test_data_2 = np.load('DES_GalGal_Big/CONFIGURATION_4_images.npy')\n",
    "\n",
    "test_data = np.vstack((test_data_1, test_data_2)) #/ np.max((np.max(test_data_1), np.max(test_data_2)))\n",
    "test_labels = np.array([1] * len(test_data_1) + [0] * len(test_data_2))\n",
    "\n",
    "del train_data_1, train_data_2, test_data_1, test_data_2"
   ]
  },
  {
   "cell_type": "code",
   "execution_count": 13,
   "metadata": {},
   "outputs": [],
   "source": [
    "### Make a PyTorch Dataset Object\n",
    "\n",
    "class DeepLenstronomyDataset(Dataset):\n",
    "    \"\"\"Dataset of DeepLenstronomy Images\"\"\"\n",
    "\n",
    "    def __init__(self, images, labels, transform=None):\n",
    "        \"\"\"\n",
    "        docstring\n",
    "        \"\"\"\n",
    "        self.images = images\n",
    "        self.labels = labels\n",
    "        self.transform = transform\n",
    "\n",
    "    def __len__(self):\n",
    "        return len(self.labels)\n",
    "\n",
    "    def __getitem__(self, idx):\n",
    "        if torch.is_tensor(idx):\n",
    "            idx = idx.tolist()\n",
    "\n",
    "        image = self.images[idx]\n",
    "        label = np.array(self.labels[idx])\n",
    "        \n",
    "        sample = {'image': image, 'label': label}\n",
    "\n",
    "        if self.transform:\n",
    "            sample = self.transform(sample)\n",
    "\n",
    "        return sample\n",
    "    \n",
    "class ToTensor(object):\n",
    "    \"\"\"Convert ndarrays in sample to Tensors.\"\"\"\n",
    "\n",
    "    def __call__(self, sample):\n",
    "        image, label = sample['image'], sample['label']\n",
    "\n",
    "        # swap color axis because\n",
    "        # numpy image: H x W x C\n",
    "        # torch image: C X H X W\n",
    "        \n",
    "        #RM : My images are already C x H x W :P\n",
    "        \n",
    "        #image = image.transpose((2, 0, 1))\n",
    "        return {'image': torch.from_numpy(image).float(),\n",
    "                'label': torch.from_numpy(label)}"
   ]
  },
  {
   "cell_type": "code",
   "execution_count": 14,
   "metadata": {},
   "outputs": [],
   "source": [
    "train_dataset = DeepLenstronomyDataset(train_data, train_labels, transform=ToTensor())\n",
    "test_dataset = DeepLenstronomyDataset(test_data, test_labels, transform=ToTensor())"
   ]
  },
  {
   "cell_type": "code",
   "execution_count": 15,
   "metadata": {},
   "outputs": [],
   "source": [
    "train_dataloader = DataLoader(train_dataset, batch_size=50, shuffle=True, num_workers=4)"
   ]
  },
  {
   "cell_type": "code",
   "execution_count": 16,
   "metadata": {},
   "outputs": [
    {
     "name": "stdout",
     "output_type": "stream",
     "text": [
      "CNN(\n",
      "  (conv1): Conv2d(5, 32, kernel_size=(5, 5), stride=(1, 1), padding=(2, 2))\n",
      "  (conv2): Conv2d(32, 64, kernel_size=(3, 3), stride=(1, 1), padding=(2, 2))\n",
      "  (dropout1): Dropout2d(p=0.25)\n",
      "  (dropout2): Dropout2d(p=0.5)\n",
      "  (fc1): Linear(in_features=166464, out_features=408, bias=True)\n",
      "  (fc2): Linear(in_features=408, out_features=16, bias=True)\n",
      "  (fc3): Linear(in_features=16, out_features=2, bias=True)\n",
      ")\n"
     ]
    }
   ],
   "source": [
    "class CNN(nn.Module):\n",
    "    def __init__(self):\n",
    "        super(CNN, self).__init__()\n",
    "        \n",
    "        #Network Components\n",
    "        self.conv1 = nn.Conv2d(in_channels=5, \n",
    "                               out_channels=32, \n",
    "                               kernel_size=5, \n",
    "                               stride=1,\n",
    "                               padding=2)\n",
    "        \n",
    "        self.conv2 = nn.Conv2d(in_channels=32, \n",
    "                               out_channels=64,\n",
    "                               kernel_size=3, \n",
    "                               stride=1,\n",
    "                               padding=2)\n",
    "        \n",
    "        self.dropout1 = nn.Dropout2d(0.25)\n",
    "        \n",
    "        self.dropout2 = nn.Dropout2d(0.5)\n",
    "        \n",
    "        self.fc1 = nn.Linear(in_features=166464, \n",
    "                             out_features=408)\n",
    "        \n",
    "        self.fc2 = nn.Linear(in_features=408, \n",
    "                             out_features=16)\n",
    "        \n",
    "        self.fc3 = nn.Linear(in_features=16, \n",
    "                             out_features=2)\n",
    "        \n",
    "    def forward(self, x):\n",
    "        #Network Flow\n",
    "        x = self.conv1(x)\n",
    "        x = F.relu(x)\n",
    "        x = self.conv2(x)\n",
    "        x = F.max_pool2d(x, kernel_size=2)\n",
    "        x = self.dropout1(x)\n",
    "        x = torch.flatten(x, 1)\n",
    "        x = self.fc1(x)\n",
    "        x = F.relu(x)\n",
    "        x = self.dropout2(x)\n",
    "        x = self.fc2(x)\n",
    "        x = F.relu(x)\n",
    "        x = self.fc3(x)\n",
    "        output = F.log_softmax(x, dim=1)\n",
    "        return output\n",
    "\n",
    "cnn = CNN()\n",
    "print(cnn)"
   ]
  },
  {
   "cell_type": "code",
   "execution_count": 17,
   "metadata": {},
   "outputs": [],
   "source": [
    "number_of_training_epochs = 4\n",
    "validation_size = 200\n",
    "loss_function = nn.CrossEntropyLoss()\n",
    "learning_rate = 0.001\n",
    "optimizer = torch.optim.Adam(cnn.parameters(), lr=learning_rate)"
   ]
  },
  {
   "cell_type": "code",
   "execution_count": 18,
   "metadata": {},
   "outputs": [
    {
     "name": "stdout",
     "output_type": "stream",
     "text": [
      "Epoch: 1 Batch: 1  | Training Accuracy: 0.985 -- Validation Accuracy: 0.985\n",
      "Epoch: 1 Batch: 51  | Training Accuracy: 0.69 -- Validation Accuracy: 0.645\n",
      "Epoch: 1 Batch: 101  | Training Accuracy: 0.705 -- Validation Accuracy: 0.675\n",
      "Epoch: 1 Batch: 151  | Training Accuracy: 0.655 -- Validation Accuracy: 0.66\n",
      "Epoch: 2 Batch: 1  | Training Accuracy: 0.75 -- Validation Accuracy: 0.755\n",
      "Epoch: 2 Batch: 51  | Training Accuracy: 0.86 -- Validation Accuracy: 0.87\n",
      "Epoch: 2 Batch: 101  | Training Accuracy: 0.875 -- Validation Accuracy: 0.87\n",
      "Epoch: 2 Batch: 151  | Training Accuracy: 0.81 -- Validation Accuracy: 0.84\n",
      "Epoch: 3 Batch: 1  | Training Accuracy: 0.82 -- Validation Accuracy: 0.86\n",
      "Epoch: 3 Batch: 51  | Training Accuracy: 0.89 -- Validation Accuracy: 0.885\n",
      "Epoch: 3 Batch: 101  | Training Accuracy: 0.865 -- Validation Accuracy: 0.9\n",
      "Epoch: 3 Batch: 151  | Training Accuracy: 0.925 -- Validation Accuracy: 0.93\n",
      "Epoch: 4 Batch: 1  | Training Accuracy: 0.97 -- Validation Accuracy: 0.96\n",
      "Epoch: 4 Batch: 51  | Training Accuracy: 0.965 -- Validation Accuracy: 0.975\n",
      "Epoch: 4 Batch: 101  | Training Accuracy: 0.93 -- Validation Accuracy: 0.935\n",
      "Epoch: 4 Batch: 151  | Training Accuracy: 0.965 -- Validation Accuracy: 0.955\n"
     ]
    }
   ],
   "source": [
    "losses, train_acc, validation_acc = [], [], []\n",
    "\n",
    "for epoch in range(number_of_training_epochs):\n",
    "    \n",
    "    for i_batch, sample_batched in enumerate(train_dataloader):\n",
    "        \n",
    "        #Clear out all existing gradients on the loss surface to reevaluate for this step\n",
    "        optimizer.zero_grad()\n",
    "        \n",
    "        #Get the CNN's current prediction of the training data\n",
    "        output = cnn(sample_batched['image'])\n",
    "        \n",
    "        #Calculate the loss by comparing the prediction to the truth\n",
    "        loss = loss_function(output, sample_batched['label']) \n",
    "        \n",
    "        #Evaluate all gradients along the loss surface using back propagation\n",
    "        loss.backward()\n",
    "        \n",
    "        #Based on the gradients, take the optimal step in the weight space\n",
    "        optimizer.step()\n",
    "        \n",
    "        #Performance monitoring\n",
    "        if i_batch % 50 == 0:\n",
    "            train_output = cnn(train_dataset[0:validation_size]['image'])\n",
    "            validation_output = cnn(test_dataset[0:validation_size]['image'])\n",
    "        \n",
    "            train_predictions = torch.max(train_output, 1)[1].data.numpy()\n",
    "            validation_predictions = torch.max(validation_output, 1)[1].data.numpy()\n",
    "\n",
    "            train_accuracy = np.sum(train_predictions == train_dataset[0:validation_size]['label'].numpy()) / validation_size\n",
    "            validation_accuracy = np.sum(validation_predictions == test_dataset[0:validation_size]['label'].numpy()) / validation_size\n",
    "            \n",
    "            print(\"Epoch: {0} Batch: {1}  | Training Accuracy: {2} -- Validation Accuracy: {3}\".format(epoch + 1, i_batch + 1, train_accuracy, validation_accuracy))\n",
    "\n",
    "            losses.append(loss.data.numpy())\n",
    "            train_acc.append(train_accuracy)\n",
    "            validation_acc.append(validation_accuracy)\n"
   ]
  },
  {
   "cell_type": "code",
   "execution_count": 20,
   "metadata": {},
   "outputs": [
    {
     "data": {
      "image/png": "[encoded data removed]",
      "text/plain": [
       "<Figure size 432x288 with 1 Axes>"
      ]
     },
     "metadata": {
      "needs_background": "light"
     },
     "output_type": "display_data"
    }
   ],
   "source": [
    "plt.figure()\n",
    "plt.plot(np.arange(len(train_acc)), train_acc, label=\"Training\")\n",
    "plt.plot(np.arange(len(validation_acc)), validation_acc, label=\"Validation\")\n",
    "plt.xlabel(\"Time\")\n",
    "plt.ylabel(\"Accuracy\")\n",
    "plt.show()"
   ]
  },
  {
   "cell_type": "code",
   "execution_count": 23,
   "metadata": {},
   "outputs": [
    {
     "name": "stdout",
     "output_type": "stream",
     "text": [
      "1\n"
     ]
    },
    {
     "data": {
      "text/plain": [
       "<matplotlib.image.AxesImage at 0x1280259b0>"
      ]
     },
     "execution_count": 23,
     "metadata": {},
     "output_type": "execute_result"
    },
    {
     "data": {
      "image/png": "[encoded data removed]",
      "text/plain": [
       "<Figure size 288x288 with 1 Axes>"
      ]
     },
     "metadata": {
      "needs_background": "light"
     },
     "output_type": "display_data"
    }
   ],
   "source": [
    "print(train_labels[0])\n",
    "plt.matshow(train_data[0][0])"
   ]
  },
  {
   "cell_type": "code",
   "execution_count": 24,
   "metadata": {},
   "outputs": [
    {
     "name": "stdout",
     "output_type": "stream",
     "text": [
      "0\n"
     ]
    },
    {
     "data": {
      "text/plain": [
       "<matplotlib.image.AxesImage at 0x1281c45f8>"
      ]
     },
     "execution_count": 24,
     "metadata": {},
     "output_type": "execute_result"
    },
    {
     "data": {
      "image/png": "[encoded data removed]",
      "text/plain": [
       "<Figure size 288x288 with 1 Axes>"
      ]
     },
     "metadata": {
      "needs_background": "light"
     },
     "output_type": "display_data"
    }
   ],
   "source": [
    "print(train_labels[-1])\n",
    "plt.matshow(train_data[-1][0])"
   ]
  },
  {
   "cell_type": "code",
   "execution_count": 25,
   "metadata": {},
   "outputs": [],
   "source": [
    "def plot_and_label(ax, im, label):\n",
    "    ax.matshow(im)\n",
    "    ax.set_title(str(label))\n",
    "    return ax"
   ]
  },
  {
   "cell_type": "code",
   "execution_count": null,
   "metadata": {},
   "outputs": [],
   "source": [
    "fig, axs = plt.subplots(2, 5)\n",
    "\n",
    "for i in [0, 1, 2, 3, 4]:\n",
    "    plot_and_label(axs[0])"
   ]
  }
 ],
 "metadata": {
  "kernelspec": {
   "display_name": "Python 3",
   "language": "python",
   "name": "python3"
  },
  "language_info": {
   "codemirror_mode": {
    "name": "ipython",
    "version": 3
   },
   "file_extension": ".py",
   "mimetype": "text/x-python",
   "name": "python",
   "nbconvert_exporter": "python",
   "pygments_lexer": "ipython3",
   "version": "3.7.1"
  }
 },
 "nbformat": 4,
 "nbformat_minor": 2
}
