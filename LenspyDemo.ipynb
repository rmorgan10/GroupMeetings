{
 "cells": [
  {
   "cell_type": "markdown",
   "metadata": {},
   "source": [
    "# DeepLenstronomy Demo\n",
    "\n",
    "Written by Robert Morgan\n",
    "\n",
    "`deeplenstronomy` is a software package that let's you interact with the strong gravitational lensing simulation software `lenstronomy` in a streamlined framework. Let's take a look at how it works!"
   ]
  },
  {
   "cell_type": "code",
   "execution_count": 1,
   "metadata": {},
   "outputs": [],
   "source": [
    "## Run this command and restart your kernel if necessary\n",
    "\n",
    "#! pip install deeplenstronomy"
   ]
  },
  {
   "cell_type": "code",
   "execution_count": 1,
   "metadata": {},
   "outputs": [],
   "source": [
    "import deeplenstronomy.deeplenstronomy as dl"
   ]
  },
  {
   "cell_type": "markdown",
   "metadata": {},
   "source": [
    "`deeplenstronomy` works by reading user-prepared configuration files. start by specifying the configuration file you will use to make the dataset."
   ]
  },
  {
   "cell_type": "code",
   "execution_count": 2,
   "metadata": {},
   "outputs": [],
   "source": [
    "config_file = 'configs/des_gal_gal.yaml'"
   ]
  },
  {
   "cell_type": "markdown",
   "metadata": {},
   "source": [
    "The configuration file is a yaml-style file for specifying all the properties of your dataset. Here is what this file contains:"
   ]
  },
  {
   "cell_type": "code",
   "execution_count": 5,
   "metadata": {},
   "outputs": [
    {
     "name": "stdout",
     "output_type": "stream",
     "text": [
      "DATASET:\r\n",
      "    NAME: DES_GalaxyGalaxy_Lensing\r\n",
      "    PARAMETERS:\r\n",
      "        SIZE: 50\r\n",
      "        OUTDIR: DES_GalGal\r\n",
      "\r\n",
      "IMAGE:\r\n",
      "    INPUT: configs/des/image.yaml\r\n",
      "        \r\n",
      "COSMOLOGY:\r\n",
      "    PARAMETERS:\r\n",
      "        H0: 70\r\n",
      "        Om0: 0.3\r\n",
      "\r\n",
      "SURVEY:\r\n",
      "    INPUT: configs/des/survey.yaml\r\n",
      "\r\n",
      "\r\n",
      "SPECIES:\r\n",
      "    GALAXY_1:\r\n",
      "        NAME: LENS\r\n",
      "        LIGHT_PROFILE_1:\r\n",
      "            NAME: SERSIC_ELLIPSE\r\n",
      "            PARAMETERS:\r\n",
      "                magnitude: -5.0\r\n",
      "\r\n",
      "                center_x:\r\n",
      "                    DISTRIBUTION:\r\n",
      "                        NAME: uniform\r\n",
      "                        PARAMETERS:\r\n",
      "                            minimum: -0.03\r\n",
      "                            maximum: 0.03\r\n",
      "                center_y:\r\n",
      "                    DISTRIBUTION:\r\n",
      "                        NAME: uniform\r\n",
      "                        PARAMETERS:\r\n",
      "                            minimum: -0.03\r\n",
      "                            maximum: 0.03\r\n",
      "\r\n",
      "                R_sersic:\r\n",
      "                    DISTRIBUTION:\r\n",
      "                        NAME: normal\r\n",
      "                        PARAMETERS:\r\n",
      "                            mean: 10\r\n",
      "                            std: 2\r\n",
      "\r\n",
      "                n_sersic:\r\n",
      "                    DISTRIBUTION:\r\n",
      "                        NAME: uniform\r\n",
      "                        PARAMETERS:\r\n",
      "                            minimum: 0.5\r\n",
      "                            maximum: 10.0\r\n",
      "                e1: 0.2\r\n",
      "                e2: -0.1\r\n",
      "\r\n",
      "                            \r\n",
      "        MASS_PROFILE_1:\r\n",
      "            NAME: SIE \r\n",
      "            PARAMETERS:\r\n",
      "                theta_E:\r\n",
      "                    DISTRIBUTION:\r\n",
      "                        NAME: uniform\r\n",
      "                        PARAMETERS:\r\n",
      "                            minimum: 0.5\r\n",
      "                            maximum: 8.0\r\n",
      "                e1: 0.1\r\n",
      "                e2: -0.1\r\n",
      "                center_x: 0.0\r\n",
      "                center_y: 0.0\r\n",
      "                \r\n",
      "        SHEAR_PROFILE_1:\r\n",
      "            NAME: SHEAR\r\n",
      "            PARAMETERS:\r\n",
      "                gamma1: 0.03\r\n",
      "                gamma2: 0.01\r\n",
      "                    \r\n",
      "        SPECIAL:\r\n",
      "            DES_COLOR: ['LIGHT_PROFILE_1']\r\n",
      "            BRIGHTEN_EVERYTHING: ['LIGHT_PROFILE_1-6']\r\n",
      "            MAKE_REDDER: ['LIGHT_PROFILE_1-2']\r\n",
      "\r\n",
      "    GALAXY_2:\r\n",
      "        NAME: SOURCE\r\n",
      "        INPUT: configs/sersic_light_defaults.yaml\r\n",
      "\r\n",
      "        SPECIAL:\r\n",
      "            DES_COLOR: ['LIGHT_PROFILE_1']\r\n",
      "            BRIGHTEN_EVERYTHING: ['LIGHT_PROFILE_1-4']\r\n",
      "            MAKE_BLUEER: ['LIGHT_PROFILE_1-1']\r\n",
      "\r\n",
      "    NOISE_1:\r\n",
      "        NAME: POISSON_NOISE\r\n",
      "        PARAMETERS:\r\n",
      "            mean:\r\n",
      "                DISTRIBUTION:\r\n",
      "                    NAME: uniform\r\n",
      "                    PARAMETERS:\r\n",
      "                        minimum: 0.3\r\n",
      "                        maximum: 0.5\r\n",
      "\r\n",
      "        \r\n",
      "GEOMETRY:\r\n",
      "\r\n",
      "    CONFIGURATION_1:\r\n",
      "        NAME: GALAXY_GALAXY\r\n",
      "        FRACTION: 0.5\r\n",
      "        PLANE_1:\r\n",
      "            OBJECT_1: LENS\r\n",
      "            PARAMETERS:\r\n",
      "                REDSHIFT:\r\n",
      "                    DISTRIBUTION:\r\n",
      "                        NAME: uniform\r\n",
      "                        PARAMETERS:\r\n",
      "                            minimum: 0.05\r\n",
      "                            maximum: 0.2\r\n",
      "                            \r\n",
      "        PLANE_2:\r\n",
      "            OBJECT_1: SOURCE\r\n",
      "            PARAMETERS:\r\n",
      "                REDSHIFT:\r\n",
      "                    DISTRIBUTION:\r\n",
      "                        NAME: uniform\r\n",
      "                        PARAMETERS:\r\n",
      "                            minimum: 0.4\r\n",
      "                            maximum: 0.6\r\n",
      "                            \r\n",
      "        NOISE_SOURCE_1: POISSON_NOISE\r\n",
      "\r\n",
      "\r\n",
      "            \r\n",
      "\r\n",
      "    CONFIGURATION_2:\r\n",
      "        NAME: FAKE_GALAXY_GALAXY\r\n",
      "        FRACTION: 0.5\r\n",
      "        PLANE_1:\r\n",
      "            OBJECT_1: LENS\r\n",
      "            OBJECT_2: SOURCE\r\n",
      "            PARAMETERS:\r\n",
      "                REDSHIFT:\r\n",
      "                    DISTRIBUTION:\r\n",
      "                        NAME: uniform\r\n",
      "                        PARAMETERS:\r\n",
      "                            minimum: 0.05\r\n",
      "                            maximum: 0.2\r\n",
      "\r\n",
      "            NOISE_SOURCE_1: POISSON_NOISE"
     ]
    }
   ],
   "source": [
    "! cat configs/des_gal_gal.yaml"
   ]
  },
  {
   "cell_type": "markdown",
   "metadata": {},
   "source": [
    "Let's break down what the different sections mean:\n",
    "\n",
    "<add lot's of details here>"
   ]
  },
  {
   "cell_type": "markdown",
   "metadata": {},
   "source": [
    "## Simulating a Dataset\n",
    "\n",
    "Let's put `deeplenstronomy` to work!\n",
    "\n",
    "Start by deciding whether you want to save the dataset to files or operate in an interactive mode. \n",
    "- Set `store=True` to store the dataset in a varaible\n",
    "- Set `save=True` to output the dataset as files\n",
    "\n",
    "The default is the interactive mode with `store=True` and `save=False`. Let's work with that first."
   ]
  },
  {
   "cell_type": "code",
   "execution_count": 3,
   "metadata": {},
   "outputs": [],
   "source": [
    "dataset = dl.make_dataset(config_file)"
   ]
  },
  {
   "cell_type": "markdown",
   "metadata": {},
   "source": [
    "That's it. You now have your dataset."
   ]
  },
  {
   "cell_type": "markdown",
   "metadata": {},
   "source": [
    "## Interacting with the Dataset\n",
    "\n",
    "Now that we have a dataset, let's look at what was stored in the `dataset` variable.\n",
    "\n",
    "The configuration labels you specified in the configuration file are stored here. The reasoning here is if you plan to do some sort of supervised classification, you will probably want to have the images labeled."
   ]
  },
  {
   "cell_type": "code",
   "execution_count": 7,
   "metadata": {},
   "outputs": [
    {
     "name": "stdout",
     "output_type": "stream",
     "text": [
      "['CONFIGURATION_1', 'CONFIGURATION_2']\n"
     ]
    }
   ],
   "source": [
    "print(dataset.configurations)"
   ]
  },
  {
   "cell_type": "markdown",
   "metadata": {},
   "source": [
    "The dataset name, size, and output directory are also stored as attributes of the dataset object."
   ]
  },
  {
   "cell_type": "code",
   "execution_count": 8,
   "metadata": {},
   "outputs": [
    {
     "name": "stdout",
     "output_type": "stream",
     "text": [
      "DES_GalaxyGalaxy_Lensing\n",
      "50\n",
      "DES_GalGal\n"
     ]
    }
   ],
   "source": [
    "print(dataset.name)\n",
    "print(dataset.size)\n",
    "print(dataset.outdir)"
   ]
  },
  {
   "cell_type": "markdown",
   "metadata": {},
   "source": [
    "There are a few other things that get stored automatically (that you can explore via `dir(dataset)`), but we'll shift our focus to the things we simulated.\n",
    "\n",
    "The most interesting information is stored here in these attributes:"
   ]
  },
  {
   "cell_type": "code",
   "execution_count": 8,
   "metadata": {},
   "outputs": [
    {
     "name": "stdout",
     "output_type": "stream",
     "text": [
      "CONFIGURATION_1_images\n",
      "CONFIGURATION_1_metadata\n",
      "CONFIGURATION_2_images\n",
      "CONFIGURATION_2_metadata\n"
     ]
    }
   ],
   "source": [
    "for item in [x for x in dir(dataset) if x[0:13] == 'CONFIGURATION']:\n",
    "    print(item)"
   ]
  },
  {
   "cell_type": "markdown",
   "metadata": {},
   "source": [
    "The `_images` attribute is a `numpy.ndarray` object and the `_metadata` attribute is a `pandas.DataFrame` object."
   ]
  },
  {
   "cell_type": "code",
   "execution_count": 9,
   "metadata": {},
   "outputs": [
    {
     "name": "stdout",
     "output_type": "stream",
     "text": [
      "<class 'numpy.ndarray'>\n",
      "<class 'pandas.core.frame.DataFrame'>\n"
     ]
    }
   ],
   "source": [
    "print(type(dataset.CONFIGURATION_1_images))\n",
    "print(type(dataset.CONFIGURATION_1_metadata))"
   ]
  },
  {
   "cell_type": "markdown",
   "metadata": {},
   "source": [
    "### Images\n",
    "\n",
    "Let's checkout some of the images in the `dataset.CONFIGURATION_1_images` attribute.\n",
    "\n",
    "What's in this array?"
   ]
  },
  {
   "cell_type": "code",
   "execution_count": 10,
   "metadata": {},
   "outputs": [
    {
     "name": "stdout",
     "output_type": "stream",
     "text": [
      "(25, 5, 100, 100)\n"
     ]
    }
   ],
   "source": [
    "print(dataset.CONFIGURATION_1_images.shape)"
   ]
  },
  {
   "cell_type": "markdown",
   "metadata": {},
   "source": [
    "The array dimensions are (image index, band, x_pixels, y_pixels). \n",
    "\n",
    "The number of images is the size of the dataset multiplied by the fraction of the dataset in CONFIGURATION_1, both of which you specify in the configuration file. The bands used is also specified in the configuration file. Finally, yup you guessed it, the image dimensions are also specified in the configuration file."
   ]
  },
  {
   "cell_type": "markdown",
   "metadata": {},
   "source": [
    "`deeplenstronomy` also has built-in vizualization functions.\n",
    "\n",
    "Let's look at the r-band of image index 2 in CONFIGURATION_1:"
   ]
  },
  {
   "cell_type": "code",
   "execution_count": 9,
   "metadata": {},
   "outputs": [
    {
     "data": {
      "text/plain": [
       "<Figure size 432x288 with 0 Axes>"
      ]
     },
     "metadata": {},
     "output_type": "display_data"
    },
    {
     "data": {
      "image/png": "[encoded data removed]",
      "text/plain": [
       "<Figure size 288x288 with 1 Axes>"
      ]
     },
     "metadata": {},
     "output_type": "display_data"
    }
   ],
   "source": [
    "dl.view_image(dataset.CONFIGURATION_1_images[2][1])"
   ]
  },
  {
   "cell_type": "markdown",
   "metadata": {},
   "source": [
    "You can also look at all the bands for this image at once."
   ]
  },
  {
   "cell_type": "code",
   "execution_count": 10,
   "metadata": {},
   "outputs": [
    {
     "data": {
      "image/png": "[encoded data removed]",
      "text/plain": [
       "<Figure size 432x288 with 5 Axes>"
      ]
     },
     "metadata": {},
     "output_type": "display_data"
    }
   ],
   "source": [
    "dl.view_image(dataset.CONFIGURATION_1_images[2])"
   ]
  },
  {
   "cell_type": "markdown",
   "metadata": {},
   "source": [
    "Finally, you can convert the single band images into a single RGB image:"
   ]
  },
  {
   "cell_type": "code",
   "execution_count": 11,
   "metadata": {},
   "outputs": [
    {
     "data": {
      "image/png": "[encoded data removed]",
      "text/plain": [
       "<Figure size 432x288 with 1 Axes>"
      ]
     },
     "metadata": {},
     "output_type": "display_data"
    }
   ],
   "source": [
    "dl.view_image_rgb(dataset.CONFIGURATION_1_images[2])"
   ]
  },
  {
   "cell_type": "markdown",
   "metadata": {},
   "source": [
    "### Metadata\n",
    "\n",
    "Once you have an image, you may want to consider the parameters that went into its generation to better understand what you made. To check that out, you can view the metadata saved by `lenspy`.\n",
    "\n",
    "Let's look at the properties of the metadata."
   ]
  },
  {
   "cell_type": "code",
   "execution_count": 14,
   "metadata": {},
   "outputs": [
    {
     "data": {
      "text/plain": [
       "(25, 285)"
      ]
     },
     "execution_count": 14,
     "metadata": {},
     "output_type": "execute_result"
    }
   ],
   "source": [
    "dataset.CONFIGURATION_1_metadata.shape"
   ]
  },
  {
   "cell_type": "markdown",
   "metadata": {},
   "source": [
    "Wow. That's a lot of columns. The number of columns increases with the complexity of your configurations, since there is more information for `lenspy` to keep track of. The columns are also broken up my band, so doubling the number of bands will double the number of columns in the metadata.\n",
    "\n",
    "Let's look at the column names to see what information we have."
   ]
  },
  {
   "cell_type": "code",
   "execution_count": 15,
   "metadata": {},
   "outputs": [
    {
     "name": "stdout",
     "output_type": "stream",
     "text": [
      "H0_g\n",
      "Om0_g\n",
      "exposure_time_g\n",
      "numPix_g\n",
      "pixel_scale_g\n",
      "psf_type_g\n",
      "read_noise_g\n",
      "ccd_gain_g\n",
      "seeing_g\n",
      "magnitude_zero_point_g\n",
      "sky_brightness_g\n",
      "num_exposures_g\n",
      "NUMBER_OF_NOISE_SOURCES_g\n",
      "NOISE_SOURCE_1-NAME_g\n",
      "NOISE_SOURCE_1-mean_g\n",
      "CONFIGURATION_LABEL_g\n",
      "CONFIGURATION_NAME_g\n",
      "NUMBER_OF_PLANES_g\n",
      "PLANE_1-NUMBER_OF_OBJECTS_g\n",
      "PLANE_1-OBJECT_1-NAME_g\n",
      "PLANE_2-NUMBER_OF_OBJECTS_g\n",
      "PLANE_2-OBJECT_1-NAME_g\n",
      "PLANE_1-OBJECT_1-REDSHIFT_g\n",
      "PLANE_1-OBJECT_1-NUMBER_OF_LIGHT_PROFILES_g\n",
      "PLANE_1-OBJECT_1-NUMBER_OF_SHEAR_PROFILES_g\n",
      "PLANE_1-OBJECT_1-NUMBER_OF_MASS_PROFILES_g\n",
      "PLANE_1-OBJECT_1-HOST_g\n",
      "PLANE_1-OBJECT_1-LIGHT_PROFILE_1-NAME_g\n",
      "PLANE_1-OBJECT_1-LIGHT_PROFILE_1-magnitude_g\n",
      "PLANE_1-OBJECT_1-LIGHT_PROFILE_1-center_x_g\n",
      "PLANE_1-OBJECT_1-LIGHT_PROFILE_1-center_y_g\n",
      "PLANE_1-OBJECT_1-LIGHT_PROFILE_1-R_sersic_g\n",
      "PLANE_1-OBJECT_1-LIGHT_PROFILE_1-n_sersic_g\n",
      "PLANE_1-OBJECT_1-LIGHT_PROFILE_1-e1_g\n",
      "PLANE_1-OBJECT_1-LIGHT_PROFILE_1-e2_g\n",
      "PLANE_1-OBJECT_1-MASS_PROFILE_1-NAME_g\n",
      "PLANE_1-OBJECT_1-MASS_PROFILE_1-theta_E_g\n",
      "PLANE_1-OBJECT_1-MASS_PROFILE_1-e1_g\n",
      "PLANE_1-OBJECT_1-MASS_PROFILE_1-e2_g\n",
      "PLANE_1-OBJECT_1-MASS_PROFILE_1-center_x_g\n",
      "PLANE_1-OBJECT_1-MASS_PROFILE_1-center_y_g\n",
      "PLANE_1-OBJECT_1-SHEAR_PROFILE_1-NAME_g\n",
      "PLANE_1-OBJECT_1-SHEAR_PROFILE_1-gamma1_g\n",
      "PLANE_1-OBJECT_1-SHEAR_PROFILE_1-gamma2_g\n",
      "PLANE_2-OBJECT_1-REDSHIFT_g\n",
      "PLANE_2-OBJECT_1-NUMBER_OF_LIGHT_PROFILES_g\n",
      "PLANE_2-OBJECT_1-NUMBER_OF_SHEAR_PROFILES_g\n",
      "PLANE_2-OBJECT_1-NUMBER_OF_MASS_PROFILES_g\n",
      "PLANE_2-OBJECT_1-HOST_g\n",
      "PLANE_2-OBJECT_1-LIGHT_PROFILE_1-NAME_g\n",
      "PLANE_2-OBJECT_1-LIGHT_PROFILE_1-magnitude_g\n",
      "PLANE_2-OBJECT_1-LIGHT_PROFILE_1-center_x_g\n",
      "PLANE_2-OBJECT_1-LIGHT_PROFILE_1-center_y_g\n",
      "PLANE_2-OBJECT_1-LIGHT_PROFILE_1-R_sersic_g\n",
      "PLANE_2-OBJECT_1-LIGHT_PROFILE_1-n_sersic_g\n",
      "PLANE_2-OBJECT_1-LIGHT_PROFILE_1-e1_g\n",
      "PLANE_2-OBJECT_1-LIGHT_PROFILE_1-e2_g\n",
      "H0_r\n",
      "Om0_r\n",
      "exposure_time_r\n",
      "numPix_r\n",
      "pixel_scale_r\n",
      "psf_type_r\n",
      "read_noise_r\n",
      "ccd_gain_r\n",
      "seeing_r\n",
      "magnitude_zero_point_r\n",
      "sky_brightness_r\n",
      "num_exposures_r\n",
      "NUMBER_OF_NOISE_SOURCES_r\n",
      "NOISE_SOURCE_1-NAME_r\n",
      "NOISE_SOURCE_1-mean_r\n",
      "CONFIGURATION_LABEL_r\n",
      "CONFIGURATION_NAME_r\n",
      "NUMBER_OF_PLANES_r\n",
      "PLANE_1-NUMBER_OF_OBJECTS_r\n",
      "PLANE_1-OBJECT_1-NAME_r\n",
      "PLANE_2-NUMBER_OF_OBJECTS_r\n",
      "PLANE_2-OBJECT_1-NAME_r\n",
      "PLANE_1-OBJECT_1-REDSHIFT_r\n",
      "PLANE_1-OBJECT_1-NUMBER_OF_LIGHT_PROFILES_r\n",
      "PLANE_1-OBJECT_1-NUMBER_OF_SHEAR_PROFILES_r\n",
      "PLANE_1-OBJECT_1-NUMBER_OF_MASS_PROFILES_r\n",
      "PLANE_1-OBJECT_1-HOST_r\n",
      "PLANE_1-OBJECT_1-LIGHT_PROFILE_1-NAME_r\n",
      "PLANE_1-OBJECT_1-LIGHT_PROFILE_1-magnitude_r\n",
      "PLANE_1-OBJECT_1-LIGHT_PROFILE_1-center_x_r\n",
      "PLANE_1-OBJECT_1-LIGHT_PROFILE_1-center_y_r\n",
      "PLANE_1-OBJECT_1-LIGHT_PROFILE_1-R_sersic_r\n",
      "PLANE_1-OBJECT_1-LIGHT_PROFILE_1-n_sersic_r\n",
      "PLANE_1-OBJECT_1-LIGHT_PROFILE_1-e1_r\n",
      "PLANE_1-OBJECT_1-LIGHT_PROFILE_1-e2_r\n",
      "PLANE_1-OBJECT_1-MASS_PROFILE_1-NAME_r\n",
      "PLANE_1-OBJECT_1-MASS_PROFILE_1-theta_E_r\n",
      "PLANE_1-OBJECT_1-MASS_PROFILE_1-e1_r\n",
      "PLANE_1-OBJECT_1-MASS_PROFILE_1-e2_r\n",
      "PLANE_1-OBJECT_1-MASS_PROFILE_1-center_x_r\n",
      "PLANE_1-OBJECT_1-MASS_PROFILE_1-center_y_r\n",
      "PLANE_1-OBJECT_1-SHEAR_PROFILE_1-NAME_r\n",
      "PLANE_1-OBJECT_1-SHEAR_PROFILE_1-gamma1_r\n",
      "PLANE_1-OBJECT_1-SHEAR_PROFILE_1-gamma2_r\n",
      "PLANE_2-OBJECT_1-REDSHIFT_r\n",
      "PLANE_2-OBJECT_1-NUMBER_OF_LIGHT_PROFILES_r\n",
      "PLANE_2-OBJECT_1-NUMBER_OF_SHEAR_PROFILES_r\n",
      "PLANE_2-OBJECT_1-NUMBER_OF_MASS_PROFILES_r\n",
      "PLANE_2-OBJECT_1-HOST_r\n",
      "PLANE_2-OBJECT_1-LIGHT_PROFILE_1-NAME_r\n",
      "PLANE_2-OBJECT_1-LIGHT_PROFILE_1-magnitude_r\n",
      "PLANE_2-OBJECT_1-LIGHT_PROFILE_1-center_x_r\n",
      "PLANE_2-OBJECT_1-LIGHT_PROFILE_1-center_y_r\n",
      "PLANE_2-OBJECT_1-LIGHT_PROFILE_1-R_sersic_r\n",
      "PLANE_2-OBJECT_1-LIGHT_PROFILE_1-n_sersic_r\n",
      "PLANE_2-OBJECT_1-LIGHT_PROFILE_1-e1_r\n",
      "PLANE_2-OBJECT_1-LIGHT_PROFILE_1-e2_r\n",
      "H0_i\n",
      "Om0_i\n",
      "exposure_time_i\n",
      "numPix_i\n",
      "pixel_scale_i\n",
      "psf_type_i\n",
      "read_noise_i\n",
      "ccd_gain_i\n",
      "seeing_i\n",
      "magnitude_zero_point_i\n",
      "sky_brightness_i\n",
      "num_exposures_i\n",
      "NUMBER_OF_NOISE_SOURCES_i\n",
      "NOISE_SOURCE_1-NAME_i\n",
      "NOISE_SOURCE_1-mean_i\n",
      "CONFIGURATION_LABEL_i\n",
      "CONFIGURATION_NAME_i\n",
      "NUMBER_OF_PLANES_i\n",
      "PLANE_1-NUMBER_OF_OBJECTS_i\n",
      "PLANE_1-OBJECT_1-NAME_i\n",
      "PLANE_2-NUMBER_OF_OBJECTS_i\n",
      "PLANE_2-OBJECT_1-NAME_i\n",
      "PLANE_1-OBJECT_1-REDSHIFT_i\n",
      "PLANE_1-OBJECT_1-NUMBER_OF_LIGHT_PROFILES_i\n",
      "PLANE_1-OBJECT_1-NUMBER_OF_SHEAR_PROFILES_i\n",
      "PLANE_1-OBJECT_1-NUMBER_OF_MASS_PROFILES_i\n",
      "PLANE_1-OBJECT_1-HOST_i\n",
      "PLANE_1-OBJECT_1-LIGHT_PROFILE_1-NAME_i\n",
      "PLANE_1-OBJECT_1-LIGHT_PROFILE_1-magnitude_i\n",
      "PLANE_1-OBJECT_1-LIGHT_PROFILE_1-center_x_i\n",
      "PLANE_1-OBJECT_1-LIGHT_PROFILE_1-center_y_i\n",
      "PLANE_1-OBJECT_1-LIGHT_PROFILE_1-R_sersic_i\n",
      "PLANE_1-OBJECT_1-LIGHT_PROFILE_1-n_sersic_i\n",
      "PLANE_1-OBJECT_1-LIGHT_PROFILE_1-e1_i\n",
      "PLANE_1-OBJECT_1-LIGHT_PROFILE_1-e2_i\n",
      "PLANE_1-OBJECT_1-MASS_PROFILE_1-NAME_i\n",
      "PLANE_1-OBJECT_1-MASS_PROFILE_1-theta_E_i\n",
      "PLANE_1-OBJECT_1-MASS_PROFILE_1-e1_i\n",
      "PLANE_1-OBJECT_1-MASS_PROFILE_1-e2_i\n",
      "PLANE_1-OBJECT_1-MASS_PROFILE_1-center_x_i\n",
      "PLANE_1-OBJECT_1-MASS_PROFILE_1-center_y_i\n",
      "PLANE_1-OBJECT_1-SHEAR_PROFILE_1-NAME_i\n",
      "PLANE_1-OBJECT_1-SHEAR_PROFILE_1-gamma1_i\n",
      "PLANE_1-OBJECT_1-SHEAR_PROFILE_1-gamma2_i\n",
      "PLANE_2-OBJECT_1-REDSHIFT_i\n",
      "PLANE_2-OBJECT_1-NUMBER_OF_LIGHT_PROFILES_i\n",
      "PLANE_2-OBJECT_1-NUMBER_OF_SHEAR_PROFILES_i\n",
      "PLANE_2-OBJECT_1-NUMBER_OF_MASS_PROFILES_i\n",
      "PLANE_2-OBJECT_1-HOST_i\n",
      "PLANE_2-OBJECT_1-LIGHT_PROFILE_1-NAME_i\n",
      "PLANE_2-OBJECT_1-LIGHT_PROFILE_1-magnitude_i\n",
      "PLANE_2-OBJECT_1-LIGHT_PROFILE_1-center_x_i\n",
      "PLANE_2-OBJECT_1-LIGHT_PROFILE_1-center_y_i\n",
      "PLANE_2-OBJECT_1-LIGHT_PROFILE_1-R_sersic_i\n",
      "PLANE_2-OBJECT_1-LIGHT_PROFILE_1-n_sersic_i\n",
      "PLANE_2-OBJECT_1-LIGHT_PROFILE_1-e1_i\n",
      "PLANE_2-OBJECT_1-LIGHT_PROFILE_1-e2_i\n",
      "H0_z\n",
      "Om0_z\n",
      "exposure_time_z\n",
      "numPix_z\n",
      "pixel_scale_z\n",
      "psf_type_z\n",
      "read_noise_z\n",
      "ccd_gain_z\n",
      "seeing_z\n",
      "magnitude_zero_point_z\n",
      "sky_brightness_z\n",
      "num_exposures_z\n",
      "NUMBER_OF_NOISE_SOURCES_z\n",
      "NOISE_SOURCE_1-NAME_z\n",
      "NOISE_SOURCE_1-mean_z\n",
      "CONFIGURATION_LABEL_z\n",
      "CONFIGURATION_NAME_z\n",
      "NUMBER_OF_PLANES_z\n",
      "PLANE_1-NUMBER_OF_OBJECTS_z\n",
      "PLANE_1-OBJECT_1-NAME_z\n",
      "PLANE_2-NUMBER_OF_OBJECTS_z\n",
      "PLANE_2-OBJECT_1-NAME_z\n",
      "PLANE_1-OBJECT_1-REDSHIFT_z\n",
      "PLANE_1-OBJECT_1-NUMBER_OF_LIGHT_PROFILES_z\n",
      "PLANE_1-OBJECT_1-NUMBER_OF_SHEAR_PROFILES_z\n",
      "PLANE_1-OBJECT_1-NUMBER_OF_MASS_PROFILES_z\n",
      "PLANE_1-OBJECT_1-HOST_z\n",
      "PLANE_1-OBJECT_1-LIGHT_PROFILE_1-NAME_z\n",
      "PLANE_1-OBJECT_1-LIGHT_PROFILE_1-magnitude_z\n",
      "PLANE_1-OBJECT_1-LIGHT_PROFILE_1-center_x_z\n",
      "PLANE_1-OBJECT_1-LIGHT_PROFILE_1-center_y_z\n",
      "PLANE_1-OBJECT_1-LIGHT_PROFILE_1-R_sersic_z\n",
      "PLANE_1-OBJECT_1-LIGHT_PROFILE_1-n_sersic_z\n",
      "PLANE_1-OBJECT_1-LIGHT_PROFILE_1-e1_z\n",
      "PLANE_1-OBJECT_1-LIGHT_PROFILE_1-e2_z\n",
      "PLANE_1-OBJECT_1-MASS_PROFILE_1-NAME_z\n",
      "PLANE_1-OBJECT_1-MASS_PROFILE_1-theta_E_z\n",
      "PLANE_1-OBJECT_1-MASS_PROFILE_1-e1_z\n",
      "PLANE_1-OBJECT_1-MASS_PROFILE_1-e2_z\n",
      "PLANE_1-OBJECT_1-MASS_PROFILE_1-center_x_z\n",
      "PLANE_1-OBJECT_1-MASS_PROFILE_1-center_y_z\n",
      "PLANE_1-OBJECT_1-SHEAR_PROFILE_1-NAME_z\n",
      "PLANE_1-OBJECT_1-SHEAR_PROFILE_1-gamma1_z\n",
      "PLANE_1-OBJECT_1-SHEAR_PROFILE_1-gamma2_z\n",
      "PLANE_2-OBJECT_1-REDSHIFT_z\n",
      "PLANE_2-OBJECT_1-NUMBER_OF_LIGHT_PROFILES_z\n",
      "PLANE_2-OBJECT_1-NUMBER_OF_SHEAR_PROFILES_z\n",
      "PLANE_2-OBJECT_1-NUMBER_OF_MASS_PROFILES_z\n",
      "PLANE_2-OBJECT_1-HOST_z\n",
      "PLANE_2-OBJECT_1-LIGHT_PROFILE_1-NAME_z\n",
      "PLANE_2-OBJECT_1-LIGHT_PROFILE_1-magnitude_z\n",
      "PLANE_2-OBJECT_1-LIGHT_PROFILE_1-center_x_z\n",
      "PLANE_2-OBJECT_1-LIGHT_PROFILE_1-center_y_z\n",
      "PLANE_2-OBJECT_1-LIGHT_PROFILE_1-R_sersic_z\n",
      "PLANE_2-OBJECT_1-LIGHT_PROFILE_1-n_sersic_z\n",
      "PLANE_2-OBJECT_1-LIGHT_PROFILE_1-e1_z\n",
      "PLANE_2-OBJECT_1-LIGHT_PROFILE_1-e2_z\n",
      "H0_Y\n",
      "Om0_Y\n",
      "exposure_time_Y\n",
      "numPix_Y\n",
      "pixel_scale_Y\n",
      "psf_type_Y\n",
      "read_noise_Y\n",
      "ccd_gain_Y\n",
      "seeing_Y\n",
      "magnitude_zero_point_Y\n",
      "sky_brightness_Y\n",
      "num_exposures_Y\n",
      "NUMBER_OF_NOISE_SOURCES_Y\n",
      "NOISE_SOURCE_1-NAME_Y\n",
      "NOISE_SOURCE_1-mean_Y\n",
      "CONFIGURATION_LABEL_Y\n",
      "CONFIGURATION_NAME_Y\n",
      "NUMBER_OF_PLANES_Y\n",
      "PLANE_1-NUMBER_OF_OBJECTS_Y\n",
      "PLANE_1-OBJECT_1-NAME_Y\n",
      "PLANE_2-NUMBER_OF_OBJECTS_Y\n",
      "PLANE_2-OBJECT_1-NAME_Y\n",
      "PLANE_1-OBJECT_1-REDSHIFT_Y\n",
      "PLANE_1-OBJECT_1-NUMBER_OF_LIGHT_PROFILES_Y\n",
      "PLANE_1-OBJECT_1-NUMBER_OF_SHEAR_PROFILES_Y\n",
      "PLANE_1-OBJECT_1-NUMBER_OF_MASS_PROFILES_Y\n",
      "PLANE_1-OBJECT_1-HOST_Y\n",
      "PLANE_1-OBJECT_1-LIGHT_PROFILE_1-NAME_Y\n",
      "PLANE_1-OBJECT_1-LIGHT_PROFILE_1-magnitude_Y\n",
      "PLANE_1-OBJECT_1-LIGHT_PROFILE_1-center_x_Y\n",
      "PLANE_1-OBJECT_1-LIGHT_PROFILE_1-center_y_Y\n",
      "PLANE_1-OBJECT_1-LIGHT_PROFILE_1-R_sersic_Y\n",
      "PLANE_1-OBJECT_1-LIGHT_PROFILE_1-n_sersic_Y\n",
      "PLANE_1-OBJECT_1-LIGHT_PROFILE_1-e1_Y\n",
      "PLANE_1-OBJECT_1-LIGHT_PROFILE_1-e2_Y\n",
      "PLANE_1-OBJECT_1-MASS_PROFILE_1-NAME_Y\n",
      "PLANE_1-OBJECT_1-MASS_PROFILE_1-theta_E_Y\n",
      "PLANE_1-OBJECT_1-MASS_PROFILE_1-e1_Y\n",
      "PLANE_1-OBJECT_1-MASS_PROFILE_1-e2_Y\n",
      "PLANE_1-OBJECT_1-MASS_PROFILE_1-center_x_Y\n",
      "PLANE_1-OBJECT_1-MASS_PROFILE_1-center_y_Y\n",
      "PLANE_1-OBJECT_1-SHEAR_PROFILE_1-NAME_Y\n",
      "PLANE_1-OBJECT_1-SHEAR_PROFILE_1-gamma1_Y\n",
      "PLANE_1-OBJECT_1-SHEAR_PROFILE_1-gamma2_Y\n",
      "PLANE_2-OBJECT_1-REDSHIFT_Y\n",
      "PLANE_2-OBJECT_1-NUMBER_OF_LIGHT_PROFILES_Y\n",
      "PLANE_2-OBJECT_1-NUMBER_OF_SHEAR_PROFILES_Y\n",
      "PLANE_2-OBJECT_1-NUMBER_OF_MASS_PROFILES_Y\n",
      "PLANE_2-OBJECT_1-HOST_Y\n",
      "PLANE_2-OBJECT_1-LIGHT_PROFILE_1-NAME_Y\n",
      "PLANE_2-OBJECT_1-LIGHT_PROFILE_1-magnitude_Y\n",
      "PLANE_2-OBJECT_1-LIGHT_PROFILE_1-center_x_Y\n",
      "PLANE_2-OBJECT_1-LIGHT_PROFILE_1-center_y_Y\n",
      "PLANE_2-OBJECT_1-LIGHT_PROFILE_1-R_sersic_Y\n",
      "PLANE_2-OBJECT_1-LIGHT_PROFILE_1-n_sersic_Y\n",
      "PLANE_2-OBJECT_1-LIGHT_PROFILE_1-e1_Y\n",
      "PLANE_2-OBJECT_1-LIGHT_PROFILE_1-e2_Y\n"
     ]
    }
   ],
   "source": [
    "for col in dataset.CONFIGURATION_1_metadata.columns:\n",
    "    print(col)"
   ]
  },
  {
   "cell_type": "markdown",
   "metadata": {},
   "source": [
    "Every individual number used in the `lenstronomy` simulation is tracked."
   ]
  },
  {
   "cell_type": "markdown",
   "metadata": {},
   "source": [
    "As well, the row index in the metadata dataframe corresponds to the image index in the image array, so you can track which image has which properties. The dataframe contents can be accessed like this:"
   ]
  },
  {
   "cell_type": "code",
   "execution_count": 16,
   "metadata": {},
   "outputs": [
    {
     "data": {
      "text/html": [
       "<div>\n",
       "<style scoped>\n",
       "    .dataframe tbody tr th:only-of-type {\n",
       "        vertical-align: middle;\n",
       "    }\n",
       "\n",
       "    .dataframe tbody tr th {\n",
       "        vertical-align: top;\n",
       "    }\n",
       "\n",
       "    .dataframe thead th {\n",
       "        text-align: right;\n",
       "    }\n",
       "</style>\n",
       "<table border=\"1\" class=\"dataframe\">\n",
       "  <thead>\n",
       "    <tr style=\"text-align: right;\">\n",
       "      <th></th>\n",
       "      <th>H0_g</th>\n",
       "      <th>Om0_g</th>\n",
       "      <th>exposure_time_g</th>\n",
       "      <th>numPix_g</th>\n",
       "      <th>pixel_scale_g</th>\n",
       "      <th>psf_type_g</th>\n",
       "      <th>read_noise_g</th>\n",
       "      <th>ccd_gain_g</th>\n",
       "      <th>seeing_g</th>\n",
       "      <th>magnitude_zero_point_g</th>\n",
       "      <th>...</th>\n",
       "      <th>PLANE_2-OBJECT_1-NUMBER_OF_MASS_PROFILES_Y</th>\n",
       "      <th>PLANE_2-OBJECT_1-HOST_Y</th>\n",
       "      <th>PLANE_2-OBJECT_1-LIGHT_PROFILE_1-NAME_Y</th>\n",
       "      <th>PLANE_2-OBJECT_1-LIGHT_PROFILE_1-magnitude_Y</th>\n",
       "      <th>PLANE_2-OBJECT_1-LIGHT_PROFILE_1-center_x_Y</th>\n",
       "      <th>PLANE_2-OBJECT_1-LIGHT_PROFILE_1-center_y_Y</th>\n",
       "      <th>PLANE_2-OBJECT_1-LIGHT_PROFILE_1-R_sersic_Y</th>\n",
       "      <th>PLANE_2-OBJECT_1-LIGHT_PROFILE_1-n_sersic_Y</th>\n",
       "      <th>PLANE_2-OBJECT_1-LIGHT_PROFILE_1-e1_Y</th>\n",
       "      <th>PLANE_2-OBJECT_1-LIGHT_PROFILE_1-e2_Y</th>\n",
       "    </tr>\n",
       "  </thead>\n",
       "  <tbody>\n",
       "    <tr>\n",
       "      <td>0</td>\n",
       "      <td>70</td>\n",
       "      <td>0.3</td>\n",
       "      <td>90.0</td>\n",
       "      <td>100</td>\n",
       "      <td>0.263</td>\n",
       "      <td>GAUSSIAN</td>\n",
       "      <td>7</td>\n",
       "      <td>6.083</td>\n",
       "      <td>1.282</td>\n",
       "      <td>30.0</td>\n",
       "      <td>...</td>\n",
       "      <td>0</td>\n",
       "      <td>None</td>\n",
       "      <td>SERSIC_ELLIPSE</td>\n",
       "      <td>14.0</td>\n",
       "      <td>2.081121</td>\n",
       "      <td>0.929392</td>\n",
       "      <td>10.124995</td>\n",
       "      <td>9.202523</td>\n",
       "      <td>0.2</td>\n",
       "      <td>-0.1</td>\n",
       "    </tr>\n",
       "    <tr>\n",
       "      <td>1</td>\n",
       "      <td>70</td>\n",
       "      <td>0.3</td>\n",
       "      <td>90.0</td>\n",
       "      <td>100</td>\n",
       "      <td>0.263</td>\n",
       "      <td>GAUSSIAN</td>\n",
       "      <td>7</td>\n",
       "      <td>6.083</td>\n",
       "      <td>0.962</td>\n",
       "      <td>30.0</td>\n",
       "      <td>...</td>\n",
       "      <td>0</td>\n",
       "      <td>None</td>\n",
       "      <td>SERSIC_ELLIPSE</td>\n",
       "      <td>14.0</td>\n",
       "      <td>2.440405</td>\n",
       "      <td>-0.280396</td>\n",
       "      <td>9.892424</td>\n",
       "      <td>9.458467</td>\n",
       "      <td>0.2</td>\n",
       "      <td>-0.1</td>\n",
       "    </tr>\n",
       "    <tr>\n",
       "      <td>2</td>\n",
       "      <td>70</td>\n",
       "      <td>0.3</td>\n",
       "      <td>90.0</td>\n",
       "      <td>100</td>\n",
       "      <td>0.263</td>\n",
       "      <td>GAUSSIAN</td>\n",
       "      <td>7</td>\n",
       "      <td>6.083</td>\n",
       "      <td>1.139</td>\n",
       "      <td>30.0</td>\n",
       "      <td>...</td>\n",
       "      <td>0</td>\n",
       "      <td>None</td>\n",
       "      <td>SERSIC_ELLIPSE</td>\n",
       "      <td>14.0</td>\n",
       "      <td>-0.664223</td>\n",
       "      <td>1.626285</td>\n",
       "      <td>8.551687</td>\n",
       "      <td>10.154787</td>\n",
       "      <td>0.2</td>\n",
       "      <td>-0.1</td>\n",
       "    </tr>\n",
       "    <tr>\n",
       "      <td>3</td>\n",
       "      <td>70</td>\n",
       "      <td>0.3</td>\n",
       "      <td>90.0</td>\n",
       "      <td>100</td>\n",
       "      <td>0.263</td>\n",
       "      <td>GAUSSIAN</td>\n",
       "      <td>7</td>\n",
       "      <td>6.083</td>\n",
       "      <td>1.122</td>\n",
       "      <td>30.0</td>\n",
       "      <td>...</td>\n",
       "      <td>0</td>\n",
       "      <td>None</td>\n",
       "      <td>SERSIC_ELLIPSE</td>\n",
       "      <td>14.0</td>\n",
       "      <td>1.994189</td>\n",
       "      <td>-1.321466</td>\n",
       "      <td>11.845085</td>\n",
       "      <td>9.865012</td>\n",
       "      <td>0.2</td>\n",
       "      <td>-0.1</td>\n",
       "    </tr>\n",
       "    <tr>\n",
       "      <td>4</td>\n",
       "      <td>70</td>\n",
       "      <td>0.3</td>\n",
       "      <td>90.0</td>\n",
       "      <td>100</td>\n",
       "      <td>0.263</td>\n",
       "      <td>GAUSSIAN</td>\n",
       "      <td>7</td>\n",
       "      <td>6.083</td>\n",
       "      <td>0.962</td>\n",
       "      <td>30.0</td>\n",
       "      <td>...</td>\n",
       "      <td>0</td>\n",
       "      <td>None</td>\n",
       "      <td>SERSIC_ELLIPSE</td>\n",
       "      <td>14.0</td>\n",
       "      <td>1.498384</td>\n",
       "      <td>-2.995897</td>\n",
       "      <td>10.078931</td>\n",
       "      <td>11.557065</td>\n",
       "      <td>0.2</td>\n",
       "      <td>-0.1</td>\n",
       "    </tr>\n",
       "  </tbody>\n",
       "</table>\n",
       "<p>5 rows × 285 columns</p>\n",
       "</div>"
      ],
      "text/plain": [
       "   H0_g  Om0_g  exposure_time_g  numPix_g  pixel_scale_g psf_type_g  \\\n",
       "0    70    0.3             90.0       100          0.263   GAUSSIAN   \n",
       "1    70    0.3             90.0       100          0.263   GAUSSIAN   \n",
       "2    70    0.3             90.0       100          0.263   GAUSSIAN   \n",
       "3    70    0.3             90.0       100          0.263   GAUSSIAN   \n",
       "4    70    0.3             90.0       100          0.263   GAUSSIAN   \n",
       "\n",
       "   read_noise_g  ccd_gain_g  seeing_g  magnitude_zero_point_g  ...  \\\n",
       "0             7       6.083     1.282                    30.0  ...   \n",
       "1             7       6.083     0.962                    30.0  ...   \n",
       "2             7       6.083     1.139                    30.0  ...   \n",
       "3             7       6.083     1.122                    30.0  ...   \n",
       "4             7       6.083     0.962                    30.0  ...   \n",
       "\n",
       "   PLANE_2-OBJECT_1-NUMBER_OF_MASS_PROFILES_Y  PLANE_2-OBJECT_1-HOST_Y  \\\n",
       "0                                           0                     None   \n",
       "1                                           0                     None   \n",
       "2                                           0                     None   \n",
       "3                                           0                     None   \n",
       "4                                           0                     None   \n",
       "\n",
       "   PLANE_2-OBJECT_1-LIGHT_PROFILE_1-NAME_Y  \\\n",
       "0                           SERSIC_ELLIPSE   \n",
       "1                           SERSIC_ELLIPSE   \n",
       "2                           SERSIC_ELLIPSE   \n",
       "3                           SERSIC_ELLIPSE   \n",
       "4                           SERSIC_ELLIPSE   \n",
       "\n",
       "  PLANE_2-OBJECT_1-LIGHT_PROFILE_1-magnitude_Y  \\\n",
       "0                                         14.0   \n",
       "1                                         14.0   \n",
       "2                                         14.0   \n",
       "3                                         14.0   \n",
       "4                                         14.0   \n",
       "\n",
       "   PLANE_2-OBJECT_1-LIGHT_PROFILE_1-center_x_Y  \\\n",
       "0                                     2.081121   \n",
       "1                                     2.440405   \n",
       "2                                    -0.664223   \n",
       "3                                     1.994189   \n",
       "4                                     1.498384   \n",
       "\n",
       "  PLANE_2-OBJECT_1-LIGHT_PROFILE_1-center_y_Y  \\\n",
       "0                                    0.929392   \n",
       "1                                   -0.280396   \n",
       "2                                    1.626285   \n",
       "3                                   -1.321466   \n",
       "4                                   -2.995897   \n",
       "\n",
       "  PLANE_2-OBJECT_1-LIGHT_PROFILE_1-R_sersic_Y  \\\n",
       "0                                   10.124995   \n",
       "1                                    9.892424   \n",
       "2                                    8.551687   \n",
       "3                                   11.845085   \n",
       "4                                   10.078931   \n",
       "\n",
       "   PLANE_2-OBJECT_1-LIGHT_PROFILE_1-n_sersic_Y  \\\n",
       "0                                     9.202523   \n",
       "1                                     9.458467   \n",
       "2                                    10.154787   \n",
       "3                                     9.865012   \n",
       "4                                    11.557065   \n",
       "\n",
       "   PLANE_2-OBJECT_1-LIGHT_PROFILE_1-e1_Y PLANE_2-OBJECT_1-LIGHT_PROFILE_1-e2_Y  \n",
       "0                                    0.2                                  -0.1  \n",
       "1                                    0.2                                  -0.1  \n",
       "2                                    0.2                                  -0.1  \n",
       "3                                    0.2                                  -0.1  \n",
       "4                                    0.2                                  -0.1  \n",
       "\n",
       "[5 rows x 285 columns]"
      ]
     },
     "execution_count": 16,
     "metadata": {},
     "output_type": "execute_result"
    }
   ],
   "source": [
    "dataset.CONFIGURATION_1_metadata.iloc[0:5]"
   ]
  },
  {
   "cell_type": "markdown",
   "metadata": {},
   "source": [
    "## Saving Datasets\n",
    "\n",
    "If you are working in interactive mode, you can straightforwardly save the images array and metadata dataframe in any file format you are comfortable with.\n",
    "\n",
    "If you instead choose to set the `save=True` option when making your dataset, let's look at what gets saved where."
   ]
  },
  {
   "cell_type": "code",
   "execution_count": 17,
   "metadata": {},
   "outputs": [],
   "source": [
    "saved_dataset = dl.make_dataset(config_file, save=True)"
   ]
  },
  {
   "cell_type": "markdown",
   "metadata": {},
   "source": [
    "Recall that the dataset object has the user-specified out directory as an attribute."
   ]
  },
  {
   "cell_type": "code",
   "execution_count": 18,
   "metadata": {},
   "outputs": [
    {
     "name": "stdout",
     "output_type": "stream",
     "text": [
      "DES_GalGal\n"
     ]
    }
   ],
   "source": [
    "print(saved_dataset.outdir)"
   ]
  },
  {
   "cell_type": "markdown",
   "metadata": {},
   "source": [
    "Let's look in that directory."
   ]
  },
  {
   "cell_type": "code",
   "execution_count": 19,
   "metadata": {},
   "outputs": [
    {
     "name": "stdout",
     "output_type": "stream",
     "text": [
      "CONFIGURATION_1_images.npy   CONFIGURATION_2_images.npy\r\n",
      "CONFIGURATION_1_metadata.csv CONFIGURATION_2_metadata.csv\r\n"
     ]
    }
   ],
   "source": [
    "! ls DES_GalGal"
   ]
  },
  {
   "cell_type": "markdown",
   "metadata": {},
   "source": [
    "The image arrays have been stored as numpy files. They can be loaded by doing\n",
    "```python\n",
    "images = numpy.load('DES_GalGal/CONFIGURATION_1_images.npy').item()\n",
    "```\n",
    "\n",
    "The metadata dataframes have been written to csv files. They can be loaded by doing\n",
    "```python\n",
    "metadata = pandas.read_csv('DES_GalGal/CONFIGURATION_1_metadata.csv')\n",
    "```\n",
    "\n",
    "Future versions of `lenspy` will include file format flexibility and built in dataset loading funcitons."
   ]
  },
  {
   "cell_type": "markdown",
   "metadata": {},
   "source": [
    "## The End\n",
    "\n",
    "That's pretty much it to `deeplenstronomy`! Feel free to contact me with any suggestions or bugs."
   ]
  },
  {
   "cell_type": "markdown",
   "metadata": {},
   "source": [
    "Happy lensing!"
   ]
  },
  {
   "cell_type": "code",
   "execution_count": null,
   "metadata": {},
   "outputs": [],
   "source": []
  }
 ],
 "metadata": {
  "kernelspec": {
   "display_name": "Python 3",
   "language": "python",
   "name": "python3"
  },
  "language_info": {
   "codemirror_mode": {
    "name": "ipython",
    "version": 3
   },
   "file_extension": ".py",
   "mimetype": "text/x-python",
   "name": "python",
   "nbconvert_exporter": "python",
   "pygments_lexer": "ipython3",
   "version": "3.7.1"
  }
 },
 "nbformat": 4,
 "nbformat_minor": 2
}
